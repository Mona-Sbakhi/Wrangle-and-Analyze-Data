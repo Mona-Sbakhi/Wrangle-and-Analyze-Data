{
 "cells": [
  {
   "cell_type": "markdown",
   "metadata": {},
   "source": [
    " # Storing, Analyzing, and Visualizing Data"
   ]
  },
  {
   "cell_type": "code",
   "execution_count": 31,
   "metadata": {},
   "outputs": [],
   "source": [
    "import matplotlib\n",
    "import matplotlib.pyplot as plt\n",
    "import pandas as pd\n",
    "import datetime as dt\n",
    "import seaborn as sns"
   ]
  },
  {
   "cell_type": "markdown",
   "metadata": {},
   "source": [
    "### Store\n",
    "Store the clean Data in a CSV file (dataframe) named twitter_archive_master.csv"
   ]
  },
  {
   "cell_type": "code",
   "execution_count": 32,
   "metadata": {
    "scrolled": true
   },
   "outputs": [
    {
     "name": "stdout",
     "output_type": "stream",
     "text": [
      "<class 'pandas.core.frame.DataFrame'>\n",
      "RangeIndex: 2356 entries, 0 to 2355\n",
      "Data columns (total 29 columns):\n",
      "tweet_id                      2356 non-null int64\n",
      "in_reply_to_status_id         78 non-null float64\n",
      "in_reply_to_user_id           78 non-null float64\n",
      "timestamp                     2356 non-null object\n",
      "source                        2356 non-null object\n",
      "retweeted_status_id           181 non-null float64\n",
      "retweeted_status_user_id      181 non-null float64\n",
      "retweeted_status_timestamp    181 non-null object\n",
      "expanded_urls                 2297 non-null object\n",
      "rating_numerator              2356 non-null int64\n",
      "rating_denominator            2356 non-null int64\n",
      "name                          2356 non-null object\n",
      "jpg_url                       2009 non-null object\n",
      "img_num                       2009 non-null float64\n",
      "p1                            2009 non-null object\n",
      "p1_conf                       2009 non-null float64\n",
      "p1_dog                        2009 non-null object\n",
      "p2                            2009 non-null object\n",
      "p2_conf                       2009 non-null float64\n",
      "p2_dog                        2009 non-null object\n",
      "p3                            2009 non-null object\n",
      "p3_conf                       2009 non-null float64\n",
      "p3_dog                        2009 non-null object\n",
      "favorites                     2340 non-null float64\n",
      "retweets                      2340 non-null float64\n",
      "user_followers                2340 non-null float64\n",
      "user_favourites               2340 non-null float64\n",
      "date_time                     2340 non-null object\n",
      "dog_stage                     2356 non-null object\n",
      "dtypes: float64(12), int64(3), object(14)\n",
      "memory usage: 533.9+ KB\n"
     ]
    }
   ],
   "source": [
    "#Store the clean dataset into dataframe\n",
    "twitter_dog= pd.read_csv('twitter_archive_master.csv')\n",
    "twitter_dog.info()"
   ]
  },
  {
   "cell_type": "markdown",
   "metadata": {},
   "source": [
    "# Questions to answer to get Insights\n",
    "\n",
    "#### Q1- What is the most famous dog stage?"
   ]
  },
  {
   "cell_type": "code",
   "execution_count": 33,
   "metadata": {},
   "outputs": [
    {
     "data": {
      "text/html": [
       "<div>\n",
       "<style scoped>\n",
       "    .dataframe tbody tr th:only-of-type {\n",
       "        vertical-align: middle;\n",
       "    }\n",
       "\n",
       "    .dataframe tbody tr th {\n",
       "        vertical-align: top;\n",
       "    }\n",
       "\n",
       "    .dataframe thead th {\n",
       "        text-align: right;\n",
       "    }\n",
       "</style>\n",
       "<table border=\"1\" class=\"dataframe\">\n",
       "  <thead>\n",
       "    <tr style=\"text-align: right;\">\n",
       "      <th></th>\n",
       "      <th>tweet_id</th>\n",
       "      <th>in_reply_to_status_id</th>\n",
       "      <th>in_reply_to_user_id</th>\n",
       "      <th>retweeted_status_id</th>\n",
       "      <th>retweeted_status_user_id</th>\n",
       "      <th>rating_numerator</th>\n",
       "      <th>rating_denominator</th>\n",
       "      <th>img_num</th>\n",
       "      <th>p1_conf</th>\n",
       "      <th>p2_conf</th>\n",
       "      <th>p3_conf</th>\n",
       "      <th>favorites</th>\n",
       "      <th>retweets</th>\n",
       "      <th>user_followers</th>\n",
       "      <th>user_favourites</th>\n",
       "    </tr>\n",
       "  </thead>\n",
       "  <tbody>\n",
       "    <tr>\n",
       "      <th>count</th>\n",
       "      <td>2.356000e+03</td>\n",
       "      <td>7.800000e+01</td>\n",
       "      <td>7.800000e+01</td>\n",
       "      <td>1.810000e+02</td>\n",
       "      <td>1.810000e+02</td>\n",
       "      <td>2356.000000</td>\n",
       "      <td>2356.000000</td>\n",
       "      <td>2009.000000</td>\n",
       "      <td>2009.000000</td>\n",
       "      <td>2.009000e+03</td>\n",
       "      <td>2.009000e+03</td>\n",
       "      <td>2340.000000</td>\n",
       "      <td>2340.000000</td>\n",
       "      <td>2.340000e+03</td>\n",
       "      <td>2340.0</td>\n",
       "    </tr>\n",
       "    <tr>\n",
       "      <th>mean</th>\n",
       "      <td>7.427716e+17</td>\n",
       "      <td>7.455079e+17</td>\n",
       "      <td>2.014171e+16</td>\n",
       "      <td>7.720400e+17</td>\n",
       "      <td>1.241698e+16</td>\n",
       "      <td>13.126486</td>\n",
       "      <td>10.455433</td>\n",
       "      <td>1.202588</td>\n",
       "      <td>0.594467</td>\n",
       "      <td>1.340727e-01</td>\n",
       "      <td>6.017061e-02</td>\n",
       "      <td>7947.678632</td>\n",
       "      <td>2921.372222</td>\n",
       "      <td>7.690813e+06</td>\n",
       "      <td>140762.0</td>\n",
       "    </tr>\n",
       "    <tr>\n",
       "      <th>std</th>\n",
       "      <td>6.856705e+16</td>\n",
       "      <td>7.582492e+16</td>\n",
       "      <td>1.252797e+17</td>\n",
       "      <td>6.236928e+16</td>\n",
       "      <td>9.599254e+16</td>\n",
       "      <td>45.876648</td>\n",
       "      <td>6.745237</td>\n",
       "      <td>0.559483</td>\n",
       "      <td>0.272236</td>\n",
       "      <td>1.006394e-01</td>\n",
       "      <td>5.085369e-02</td>\n",
       "      <td>12310.179956</td>\n",
       "      <td>4921.474911</td>\n",
       "      <td>6.593312e+01</td>\n",
       "      <td>0.0</td>\n",
       "    </tr>\n",
       "    <tr>\n",
       "      <th>min</th>\n",
       "      <td>6.660209e+17</td>\n",
       "      <td>6.658147e+17</td>\n",
       "      <td>1.185634e+07</td>\n",
       "      <td>6.661041e+17</td>\n",
       "      <td>7.832140e+05</td>\n",
       "      <td>0.000000</td>\n",
       "      <td>0.000000</td>\n",
       "      <td>1.000000</td>\n",
       "      <td>0.044333</td>\n",
       "      <td>1.011300e-08</td>\n",
       "      <td>1.740170e-10</td>\n",
       "      <td>0.000000</td>\n",
       "      <td>0.000000</td>\n",
       "      <td>7.690755e+06</td>\n",
       "      <td>140762.0</td>\n",
       "    </tr>\n",
       "    <tr>\n",
       "      <th>25%</th>\n",
       "      <td>6.783989e+17</td>\n",
       "      <td>6.757419e+17</td>\n",
       "      <td>3.086374e+08</td>\n",
       "      <td>7.186315e+17</td>\n",
       "      <td>4.196984e+09</td>\n",
       "      <td>10.000000</td>\n",
       "      <td>10.000000</td>\n",
       "      <td>1.000000</td>\n",
       "      <td>0.362925</td>\n",
       "      <td>5.353130e-02</td>\n",
       "      <td>1.610520e-02</td>\n",
       "      <td>1372.500000</td>\n",
       "      <td>586.500000</td>\n",
       "      <td>7.690770e+06</td>\n",
       "      <td>140762.0</td>\n",
       "    </tr>\n",
       "    <tr>\n",
       "      <th>50%</th>\n",
       "      <td>7.196279e+17</td>\n",
       "      <td>7.038708e+17</td>\n",
       "      <td>4.196984e+09</td>\n",
       "      <td>7.804657e+17</td>\n",
       "      <td>4.196984e+09</td>\n",
       "      <td>11.000000</td>\n",
       "      <td>10.000000</td>\n",
       "      <td>1.000000</td>\n",
       "      <td>0.588230</td>\n",
       "      <td>1.170030e-01</td>\n",
       "      <td>4.947150e-02</td>\n",
       "      <td>3454.500000</td>\n",
       "      <td>1363.500000</td>\n",
       "      <td>7.690806e+06</td>\n",
       "      <td>140762.0</td>\n",
       "    </tr>\n",
       "    <tr>\n",
       "      <th>75%</th>\n",
       "      <td>7.993373e+17</td>\n",
       "      <td>8.257804e+17</td>\n",
       "      <td>4.196984e+09</td>\n",
       "      <td>8.203146e+17</td>\n",
       "      <td>4.196984e+09</td>\n",
       "      <td>12.000000</td>\n",
       "      <td>10.000000</td>\n",
       "      <td>1.000000</td>\n",
       "      <td>0.847292</td>\n",
       "      <td>1.948970e-01</td>\n",
       "      <td>9.157150e-02</td>\n",
       "      <td>9723.500000</td>\n",
       "      <td>3402.250000</td>\n",
       "      <td>7.690829e+06</td>\n",
       "      <td>140762.0</td>\n",
       "    </tr>\n",
       "    <tr>\n",
       "      <th>max</th>\n",
       "      <td>8.924206e+17</td>\n",
       "      <td>8.862664e+17</td>\n",
       "      <td>8.405479e+17</td>\n",
       "      <td>8.874740e+17</td>\n",
       "      <td>7.874618e+17</td>\n",
       "      <td>1776.000000</td>\n",
       "      <td>170.000000</td>\n",
       "      <td>4.000000</td>\n",
       "      <td>1.000000</td>\n",
       "      <td>4.880140e-01</td>\n",
       "      <td>2.734190e-01</td>\n",
       "      <td>163968.000000</td>\n",
       "      <td>83411.000000</td>\n",
       "      <td>7.691447e+06</td>\n",
       "      <td>140762.0</td>\n",
       "    </tr>\n",
       "  </tbody>\n",
       "</table>\n",
       "</div>"
      ],
      "text/plain": [
       "           tweet_id  in_reply_to_status_id  in_reply_to_user_id  \\\n",
       "count  2.356000e+03           7.800000e+01         7.800000e+01   \n",
       "mean   7.427716e+17           7.455079e+17         2.014171e+16   \n",
       "std    6.856705e+16           7.582492e+16         1.252797e+17   \n",
       "min    6.660209e+17           6.658147e+17         1.185634e+07   \n",
       "25%    6.783989e+17           6.757419e+17         3.086374e+08   \n",
       "50%    7.196279e+17           7.038708e+17         4.196984e+09   \n",
       "75%    7.993373e+17           8.257804e+17         4.196984e+09   \n",
       "max    8.924206e+17           8.862664e+17         8.405479e+17   \n",
       "\n",
       "       retweeted_status_id  retweeted_status_user_id  rating_numerator  \\\n",
       "count         1.810000e+02              1.810000e+02       2356.000000   \n",
       "mean          7.720400e+17              1.241698e+16         13.126486   \n",
       "std           6.236928e+16              9.599254e+16         45.876648   \n",
       "min           6.661041e+17              7.832140e+05          0.000000   \n",
       "25%           7.186315e+17              4.196984e+09         10.000000   \n",
       "50%           7.804657e+17              4.196984e+09         11.000000   \n",
       "75%           8.203146e+17              4.196984e+09         12.000000   \n",
       "max           8.874740e+17              7.874618e+17       1776.000000   \n",
       "\n",
       "       rating_denominator      img_num      p1_conf       p2_conf  \\\n",
       "count         2356.000000  2009.000000  2009.000000  2.009000e+03   \n",
       "mean            10.455433     1.202588     0.594467  1.340727e-01   \n",
       "std              6.745237     0.559483     0.272236  1.006394e-01   \n",
       "min              0.000000     1.000000     0.044333  1.011300e-08   \n",
       "25%             10.000000     1.000000     0.362925  5.353130e-02   \n",
       "50%             10.000000     1.000000     0.588230  1.170030e-01   \n",
       "75%             10.000000     1.000000     0.847292  1.948970e-01   \n",
       "max            170.000000     4.000000     1.000000  4.880140e-01   \n",
       "\n",
       "            p3_conf      favorites      retweets  user_followers  \\\n",
       "count  2.009000e+03    2340.000000   2340.000000    2.340000e+03   \n",
       "mean   6.017061e-02    7947.678632   2921.372222    7.690813e+06   \n",
       "std    5.085369e-02   12310.179956   4921.474911    6.593312e+01   \n",
       "min    1.740170e-10       0.000000      0.000000    7.690755e+06   \n",
       "25%    1.610520e-02    1372.500000    586.500000    7.690770e+06   \n",
       "50%    4.947150e-02    3454.500000   1363.500000    7.690806e+06   \n",
       "75%    9.157150e-02    9723.500000   3402.250000    7.690829e+06   \n",
       "max    2.734190e-01  163968.000000  83411.000000    7.691447e+06   \n",
       "\n",
       "       user_favourites  \n",
       "count           2340.0  \n",
       "mean          140762.0  \n",
       "std                0.0  \n",
       "min           140762.0  \n",
       "25%           140762.0  \n",
       "50%           140762.0  \n",
       "75%           140762.0  \n",
       "max           140762.0  "
      ]
     },
     "execution_count": 33,
     "metadata": {},
     "output_type": "execute_result"
    }
   ],
   "source": [
    "twitter_dog.describe()"
   ]
  },
  {
   "cell_type": "markdown",
   "metadata": {},
   "source": [
    "### Code"
   ]
  },
  {
   "cell_type": "code",
   "execution_count": 35,
   "metadata": {},
   "outputs": [
    {
     "data": {
      "text/html": [
       "<div>\n",
       "<style scoped>\n",
       "    .dataframe tbody tr th:only-of-type {\n",
       "        vertical-align: middle;\n",
       "    }\n",
       "\n",
       "    .dataframe tbody tr th {\n",
       "        vertical-align: top;\n",
       "    }\n",
       "\n",
       "    .dataframe thead th {\n",
       "        text-align: right;\n",
       "    }\n",
       "</style>\n",
       "<table border=\"1\" class=\"dataframe\">\n",
       "  <thead>\n",
       "    <tr style=\"text-align: right;\">\n",
       "      <th></th>\n",
       "      <th>tweet_id</th>\n",
       "      <th>in_reply_to_status_id</th>\n",
       "      <th>in_reply_to_user_id</th>\n",
       "      <th>timestamp</th>\n",
       "      <th>source</th>\n",
       "      <th>retweeted_status_id</th>\n",
       "      <th>retweeted_status_user_id</th>\n",
       "      <th>retweeted_status_timestamp</th>\n",
       "      <th>expanded_urls</th>\n",
       "      <th>rating_numerator</th>\n",
       "      <th>...</th>\n",
       "      <th>p2_dog</th>\n",
       "      <th>p3</th>\n",
       "      <th>p3_conf</th>\n",
       "      <th>p3_dog</th>\n",
       "      <th>favorites</th>\n",
       "      <th>retweets</th>\n",
       "      <th>user_followers</th>\n",
       "      <th>user_favourites</th>\n",
       "      <th>date_time</th>\n",
       "      <th>dog_stage</th>\n",
       "    </tr>\n",
       "  </thead>\n",
       "  <tbody>\n",
       "    <tr>\n",
       "      <th>2054</th>\n",
       "      <td>744234799360020481</td>\n",
       "      <td>NaN</td>\n",
       "      <td>NaN</td>\n",
       "      <td>2016-06-18 18:26:18 +0000</td>\n",
       "      <td>&lt;a href=\"http://twitter.com/download/iphone\" r...</td>\n",
       "      <td>NaN</td>\n",
       "      <td>NaN</td>\n",
       "      <td>NaN</td>\n",
       "      <td>https://twitter.com/dog_rates/status/744234799...</td>\n",
       "      <td>13</td>\n",
       "      <td>...</td>\n",
       "      <td>False</td>\n",
       "      <td>whippet</td>\n",
       "      <td>0.018442</td>\n",
       "      <td>True</td>\n",
       "      <td>163968.0</td>\n",
       "      <td>83411.0</td>\n",
       "      <td>7690794.0</td>\n",
       "      <td>140762.0</td>\n",
       "      <td>2016-06-18 18:26:18</td>\n",
       "      <td>doggo</td>\n",
       "    </tr>\n",
       "  </tbody>\n",
       "</table>\n",
       "<p>1 rows × 29 columns</p>\n",
       "</div>"
      ],
      "text/plain": [
       "                tweet_id  in_reply_to_status_id  in_reply_to_user_id  \\\n",
       "2054  744234799360020481                    NaN                  NaN   \n",
       "\n",
       "                      timestamp  \\\n",
       "2054  2016-06-18 18:26:18 +0000   \n",
       "\n",
       "                                                 source  retweeted_status_id  \\\n",
       "2054  <a href=\"http://twitter.com/download/iphone\" r...                  NaN   \n",
       "\n",
       "      retweeted_status_user_id retweeted_status_timestamp  \\\n",
       "2054                       NaN                        NaN   \n",
       "\n",
       "                                          expanded_urls  rating_numerator  \\\n",
       "2054  https://twitter.com/dog_rates/status/744234799...                13   \n",
       "\n",
       "        ...     p2_dog       p3   p3_conf  p3_dog favorites  retweets  \\\n",
       "2054    ...      False  whippet  0.018442    True  163968.0   83411.0   \n",
       "\n",
       "     user_followers user_favourites            date_time dog_stage  \n",
       "2054      7690794.0        140762.0  2016-06-18 18:26:18     doggo  \n",
       "\n",
       "[1 rows x 29 columns]"
      ]
     },
     "execution_count": 35,
     "metadata": {},
     "output_type": "execute_result"
    }
   ],
   "source": [
    "twitter_dog[twitter_dog[\"favorites\"]== 163968]"
   ]
  },
  {
   "cell_type": "markdown",
   "metadata": {},
   "source": [
    "### Insight 1\n",
    "The doggo dog stage is the most famous Compared to other stages."
   ]
  },
  {
   "cell_type": "markdown",
   "metadata": {},
   "source": [
    "#### Q2- What are the top 10 most popular dog names?\n",
    "### Code"
   ]
  },
  {
   "cell_type": "code",
   "execution_count": 37,
   "metadata": {},
   "outputs": [
    {
     "data": {
      "text/plain": [
       "None       745\n",
       "a           55\n",
       "Charlie     12\n",
       "Cooper      11\n",
       "Lucy        11\n",
       "Oliver      11\n",
       "Penny       10\n",
       "Lola        10\n",
       "Tucker      10\n",
       "Bo           9\n",
       "Name: name, dtype: int64"
      ]
     },
     "execution_count": 37,
     "metadata": {},
     "output_type": "execute_result"
    }
   ],
   "source": [
    "twitter_dog['name'].value_counts()[:10]"
   ]
  },
  {
   "cell_type": "markdown",
   "metadata": {},
   "source": [
    "### Insight 2\n",
    "The top 10 dogs names are a, Charlie, Cooper, Lucy, Oliver, Penny, Lola, Tucker, Bo."
   ]
  },
  {
   "cell_type": "markdown",
   "metadata": {},
   "source": [
    " #### Q3-  What is the most common dog rating?\n",
    " #### Code"
   ]
  },
  {
   "cell_type": "code",
   "execution_count": 38,
   "metadata": {},
   "outputs": [
    {
     "data": {
      "text/plain": [
       "12      558\n",
       "11      464\n",
       "10      461\n",
       "13      351\n",
       "9       158\n",
       "8       102\n",
       "7        55\n",
       "14       54\n",
       "5        37\n",
       "6        32\n",
       "3        19\n",
       "4        17\n",
       "1         9\n",
       "2         9\n",
       "420       2\n",
       "0         2\n",
       "15        2\n",
       "75        2\n",
       "80        1\n",
       "20        1\n",
       "24        1\n",
       "26        1\n",
       "44        1\n",
       "50        1\n",
       "60        1\n",
       "165       1\n",
       "84        1\n",
       "88        1\n",
       "144       1\n",
       "182       1\n",
       "143       1\n",
       "666       1\n",
       "960       1\n",
       "1776      1\n",
       "17        1\n",
       "27        1\n",
       "45        1\n",
       "99        1\n",
       "121       1\n",
       "204       1\n",
       "Name: rating_numerator, dtype: int64"
      ]
     },
     "execution_count": 38,
     "metadata": {},
     "output_type": "execute_result"
    }
   ],
   "source": [
    "twitter_dog['rating_numerator'].value_counts()"
   ]
  },
  {
   "cell_type": "markdown",
   "metadata": {},
   "source": [
    "### Insight 3\n",
    "Most common Dog Rating is 12 with 558 instances"
   ]
  },
  {
   "cell_type": "markdown",
   "metadata": {},
   "source": [
    "### Visualization "
   ]
  },
  {
   "cell_type": "code",
   "execution_count": 58,
   "metadata": {},
   "outputs": [
    {
     "data": {
      "image/png": "[encoded data removed]",
      "text/plain": [
       "<Figure size 432x288 with 1 Axes>"
      ]
     },
     "metadata": {
      "needs_background": "light"
     },
     "output_type": "display_data"
    }
   ],
   "source": [
    "twitter_dog.plot(x='retweets', y='rating_numerator', kind='scatter')\n",
    "plt.xlabel('retweets')\n",
    "plt.ylabel('rating_numerator')\n",
    "plt.title('Retweet Counts by Ratings Scatter Plot')\n",
    "\n",
    "fig = plt.gcf()\n",
    "fig.savefig('output3.png',bbox_inches='tight');"
   ]
  },
  {
   "cell_type": "markdown",
   "metadata": {},
   "source": [
    "According to above visualization Many tweets have been retweeted more than 1000 times to 2000 times. There is not a clear relationship between retweet count and rating. "
   ]
  },
  {
   "cell_type": "code",
   "execution_count": 60,
   "metadata": {},
   "outputs": [
    {
     "data": {
      "text/plain": [
       "Text(0.5,1,'Retweets and favorites Scatter plot')"
      ]
     },
     "execution_count": 60,
     "metadata": {},
     "output_type": "execute_result"
    },
    {
     "data": {
      "image/png": "[encoded data removed]",
      "text/plain": [
       "<Figure size 432x288 with 1 Axes>"
      ]
     },
     "metadata": {
      "needs_background": "light"
     },
     "output_type": "display_data"
    }
   ],
   "source": [
    "twitter_dog.plot(kind = 'scatter', x = 'favorites', y = 'retweets', alpha = 0.5, color = 'red')\n",
    "plt.xlabel('Favorites')\n",
    "plt.ylabel('Retweets')\n",
    "plt.title('Retweets and favorites Scatter plot')"
   ]
  },
  {
   "cell_type": "markdown",
   "metadata": {},
   "source": [
    "According to above visualization There is positive relationship between the count of retweet and the count of favorites, when the count of retweet is high the count of favorites also go high"
   ]
  }
 ],
 "metadata": {
  "kernelspec": {
   "display_name": "Python 3",
   "language": "python",
   "name": "python3"
  },
  "language_info": {
   "codemirror_mode": {
    "name": "ipython",
    "version": 3
   },
   "file_extension": ".py",
   "mimetype": "text/x-python",
   "name": "python",
   "nbconvert_exporter": "python",
   "pygments_lexer": "ipython3",
   "version": "3.7.0"
  }
 },
 "nbformat": 4,
 "nbformat_minor": 2
}
